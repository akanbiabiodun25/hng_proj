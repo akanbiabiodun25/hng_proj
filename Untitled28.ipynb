{
  "nbformat": 4,
  "nbformat_minor": 0,
  "metadata": {
    "colab": {
      "provenance": []
    },
    "kernelspec": {
      "name": "python3",
      "display_name": "Python 3"
    },
    "language_info": {
      "name": "python"
    }
  },
  "cells": [
    {
      "cell_type": "code",
      "execution_count": null,
      "metadata": {
        "colab": {
          "base_uri": "https://localhost:8080/"
        },
        "id": "Bmy9A1jESO3D",
        "outputId": "86acb124-ab64-4c00-8d99-85e20481f649"
      },
      "outputs": [
        {
          "output_type": "stream",
          "name": "stdout",
          "text": [
            "Requirement already satisfied: django in /usr/local/lib/python3.10/dist-packages (4.2.5)\n",
            "Requirement already satisfied: asgiref<4,>=3.6.0 in /usr/local/lib/python3.10/dist-packages (from django) (3.7.2)\n",
            "Requirement already satisfied: sqlparse>=0.3.1 in /usr/local/lib/python3.10/dist-packages (from django) (0.4.4)\n",
            "Requirement already satisfied: typing-extensions>=4 in /usr/local/lib/python3.10/dist-packages (from asgiref<4,>=3.6.0->django) (4.5.0)\n"
          ]
        }
      ],
      "source": [
        "!pip install django"
      ]
    },
    {
      "cell_type": "code",
      "source": [
        "from django.http import HttpResponse\n",
        "from django.views.decorators.csrf import csrf_exempt\n",
        "\n",
        "@csrf_exempt\n",
        "def my_endpoint(request):\n",
        "    if request.method == 'GET':\n",
        "        # Handle GET request here\n",
        "        return HttpResponse('This is a GET request')\n",
        "    elif request.method == 'POST':\n",
        "        # Handle POST request here\n",
        "        return HttpResponse('This is a POST request')\n",
        "    else:\n",
        "        # Handle other requests here\n",
        "        return HttpResponse('This is an unsupported request')"
      ],
      "metadata": {
        "id": "6G9LexVJSllE"
      },
      "execution_count": null,
      "outputs": []
    },
    {
      "cell_type": "code",
      "source": [
        "import json\n",
        "from django.http import JsonResponse\n",
        "\n",
        "def my_endpoint(request):\n",
        "    if request.method == 'GET':\n",
        "        slack_name = request.GET.get('slack_name')\n",
        "        track = request.GET.get('track')\n",
        "\n",
        "        # Do something with the parameters\n",
        "        result = {\n",
        "            'slack_name': slack_name,\n",
        "            'day_of_week': datetime.utcnow().strftime('%A'),\n",
        "            'utc_time': datetime.utcnow().strftime('%Y-%m-%d %H:%M:%S UTC'),\n",
        "            'track': track,\n",
        "            'file_url': '',\n",
        "            'source_code_url': '',\n",
        "            'status_code': 200\n",
        "        }\n",
        "\n",
        "        # Return the result as JSON\n",
        "        return JsonResponse(result)\n",
        "    else:\n",
        "        # Handle other requests here\n",
        "        return HttpResponse('This is an unsupported request')"
      ],
      "metadata": {
        "id": "DAXXNQ-EYzAA"
      },
      "execution_count": null,
      "outputs": []
    },
    {
      "cell_type": "markdown",
      "source": [
        "In the above code snippet, we define a function called my_endpoint that takes a request object as input. We then retrieve the values of the two GET parameters using the request.GET.get() method. We then create a dictionary called result that contains the Slack name, current day of the week, current UTC time, track, GitHub URL of the file being run, GitHub URL of the full source code, and status code. Finally, we return the result dictionary as a JSON response using the JsonResponse method"
      ],
      "metadata": {
        "id": "BpxdzPKTZSFK"
      }
    },
    {
      "cell_type": "code",
      "source": [],
      "metadata": {
        "id": "HNRFpPVBZJur"
      },
      "execution_count": null,
      "outputs": []
    }
  ]
}